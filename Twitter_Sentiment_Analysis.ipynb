{
 "cells": [
  {
   "cell_type": "markdown",
   "id": "68084067-653a-4c4f-8a39-3cfe9fa8f302",
   "metadata": {},
   "source": [
    "# Downloading data from kaggle"
   ]
  },
  {
   "cell_type": "code",
   "execution_count": 7,
   "id": "7ff90d25-4323-4cac-810d-f4e1bdad6a97",
   "metadata": {},
   "outputs": [
    {
     "name": "stdout",
     "output_type": "stream",
     "text": [
      "Dataset URL: https://www.kaggle.com/datasets/kazanova/sentiment140\n",
      "License(s): other\n",
      "sentiment140.zip: Skipping, found more recently modified local copy (use --force to force download)\n"
     ]
    }
   ],
   "source": [
    "!kaggle datasets download -d kazanova/sentiment140"
   ]
  },
  {
   "cell_type": "code",
   "execution_count": 8,
   "id": "d60da783-8a84-4c9b-b6ad-f371450cb848",
   "metadata": {},
   "outputs": [
    {
     "name": "stdout",
     "output_type": "stream",
     "text": [
      "The dataset is extracted!\n"
     ]
    }
   ],
   "source": [
    "# Extracting the zip file\n",
    "from zipfile import ZipFile\n",
    "\n",
    "dataset = '...\\Twitter Sentiment Analysis\\\\sentiment140.zip'\n",
    "\n",
    "with ZipFile(dataset, 'r') as zip:\n",
    "    zip.extractall()\n",
    "    print('The dataset is extracted!')"
   ]
  },
  {
   "cell_type": "markdown",
   "id": "ba52a9fe-a556-4466-8177-f814fbe06e26",
   "metadata": {},
   "source": [
    "# Importing libraries"
   ]
  },
  {
   "cell_type": "code",
   "execution_count": 90,
   "id": "d44976b3-fe48-4245-93e7-cfda543e9101",
   "metadata": {},
   "outputs": [],
   "source": [
    "import numpy as np\n",
    "import pandas as pd\n",
    "import matplotlib.pyplot as plt\n",
    "import re\n",
    "import nltk\n",
    "from nltk.corpus import stopwords\n",
    "from nltk.stem.porter import PorterStemmer\n",
    "from sklearn.feature_extraction.text import TfidfVectorizer\n",
    "from sklearn.model_selection import train_test_split\n",
    "from sklearn.linear_model import LogisticRegression\n",
    "from sklearn.metrics import (accuracy_score, ConfusionMatrixDisplay, confusion_matrix, classification_report,\n",
    "roc_curve, roc_auc_score, RocCurveDisplay)"
   ]
  },
  {
   "cell_type": "markdown",
   "id": "04c19ae6-de7d-4462-ab59-2b817cfdce4c",
   "metadata": {},
   "source": [
    "# Loading the data"
   ]
  },
  {
   "cell_type": "code",
   "execution_count": null,
   "id": "1ebbae0f-6cf0-4009-9d3d-9663888d2dab",
   "metadata": {
    "scrolled": true
   },
   "outputs": [],
   "source": [
    "file = 'Twitter_data.csv'\n",
    "column_names = ['target', 'id', 'date', 'flag', 'user', 'text']\n",
    "data = pd.read_csv(file, sep=',', names=column_names, encoding='ISO-8859-1')\n",
    "df = pd.DataFrame(data)"
   ]
  },
  {
   "cell_type": "code",
   "execution_count": 21,
   "id": "d6b7a136-8955-4095-bae8-4860c3d6db55",
   "metadata": {},
   "outputs": [
    {
     "data": {
      "text/plain": [
       "(1600000, 6)"
      ]
     },
     "execution_count": 21,
     "metadata": {},
     "output_type": "execute_result"
    }
   ],
   "source": [
    "df.shape"
   ]
  },
  {
   "cell_type": "code",
   "execution_count": 22,
   "id": "80db148e-d1df-402a-b51c-61335e538aa3",
   "metadata": {},
   "outputs": [
    {
     "data": {
      "text/html": [
       "<div>\n",
       "<style scoped>\n",
       "    .dataframe tbody tr th:only-of-type {\n",
       "        vertical-align: middle;\n",
       "    }\n",
       "\n",
       "    .dataframe tbody tr th {\n",
       "        vertical-align: top;\n",
       "    }\n",
       "\n",
       "    .dataframe thead th {\n",
       "        text-align: right;\n",
       "    }\n",
       "</style>\n",
       "<table border=\"1\" class=\"dataframe\">\n",
       "  <thead>\n",
       "    <tr style=\"text-align: right;\">\n",
       "      <th></th>\n",
       "      <th>target</th>\n",
       "      <th>id</th>\n",
       "      <th>date</th>\n",
       "      <th>flag</th>\n",
       "      <th>user</th>\n",
       "      <th>text</th>\n",
       "    </tr>\n",
       "  </thead>\n",
       "  <tbody>\n",
       "    <tr>\n",
       "      <th>0</th>\n",
       "      <td>0</td>\n",
       "      <td>1467810369</td>\n",
       "      <td>Mon Apr 06 22:19:45 PDT 2009</td>\n",
       "      <td>NO_QUERY</td>\n",
       "      <td>_TheSpecialOne_</td>\n",
       "      <td>@switchfoot http://twitpic.com/2y1zl - Awww, t...</td>\n",
       "    </tr>\n",
       "    <tr>\n",
       "      <th>1</th>\n",
       "      <td>0</td>\n",
       "      <td>1467810672</td>\n",
       "      <td>Mon Apr 06 22:19:49 PDT 2009</td>\n",
       "      <td>NO_QUERY</td>\n",
       "      <td>scotthamilton</td>\n",
       "      <td>is upset that he can't update his Facebook by ...</td>\n",
       "    </tr>\n",
       "    <tr>\n",
       "      <th>2</th>\n",
       "      <td>0</td>\n",
       "      <td>1467810917</td>\n",
       "      <td>Mon Apr 06 22:19:53 PDT 2009</td>\n",
       "      <td>NO_QUERY</td>\n",
       "      <td>mattycus</td>\n",
       "      <td>@Kenichan I dived many times for the ball. Man...</td>\n",
       "    </tr>\n",
       "    <tr>\n",
       "      <th>3</th>\n",
       "      <td>0</td>\n",
       "      <td>1467811184</td>\n",
       "      <td>Mon Apr 06 22:19:57 PDT 2009</td>\n",
       "      <td>NO_QUERY</td>\n",
       "      <td>ElleCTF</td>\n",
       "      <td>my whole body feels itchy and like its on fire</td>\n",
       "    </tr>\n",
       "    <tr>\n",
       "      <th>4</th>\n",
       "      <td>0</td>\n",
       "      <td>1467811193</td>\n",
       "      <td>Mon Apr 06 22:19:57 PDT 2009</td>\n",
       "      <td>NO_QUERY</td>\n",
       "      <td>Karoli</td>\n",
       "      <td>@nationwideclass no, it's not behaving at all....</td>\n",
       "    </tr>\n",
       "  </tbody>\n",
       "</table>\n",
       "</div>"
      ],
      "text/plain": [
       "   target          id                          date      flag  \\\n",
       "0       0  1467810369  Mon Apr 06 22:19:45 PDT 2009  NO_QUERY   \n",
       "1       0  1467810672  Mon Apr 06 22:19:49 PDT 2009  NO_QUERY   \n",
       "2       0  1467810917  Mon Apr 06 22:19:53 PDT 2009  NO_QUERY   \n",
       "3       0  1467811184  Mon Apr 06 22:19:57 PDT 2009  NO_QUERY   \n",
       "4       0  1467811193  Mon Apr 06 22:19:57 PDT 2009  NO_QUERY   \n",
       "\n",
       "              user                                               text  \n",
       "0  _TheSpecialOne_  @switchfoot http://twitpic.com/2y1zl - Awww, t...  \n",
       "1    scotthamilton  is upset that he can't update his Facebook by ...  \n",
       "2         mattycus  @Kenichan I dived many times for the ball. Man...  \n",
       "3          ElleCTF    my whole body feels itchy and like its on fire   \n",
       "4           Karoli  @nationwideclass no, it's not behaving at all....  "
      ]
     },
     "execution_count": 22,
     "metadata": {},
     "output_type": "execute_result"
    }
   ],
   "source": [
    "df.head()"
   ]
  },
  {
   "cell_type": "code",
   "execution_count": 23,
   "id": "6e6ddb23-36cc-448d-bd19-1415dc37e66a",
   "metadata": {},
   "outputs": [
    {
     "data": {
      "text/plain": [
       "target\n",
       "0    800000\n",
       "4    800000\n",
       "Name: count, dtype: int64"
      ]
     },
     "execution_count": 23,
     "metadata": {},
     "output_type": "execute_result"
    }
   ],
   "source": [
    "df['target'].value_counts()"
   ]
  },
  {
   "cell_type": "code",
   "execution_count": 28,
   "id": "a6ae5a8e-7547-408b-8a90-6186cc4e5edf",
   "metadata": {},
   "outputs": [
    {
     "data": {
      "text/plain": [
       "target    0\n",
       "id        0\n",
       "date      0\n",
       "flag      0\n",
       "user      0\n",
       "text      0\n",
       "dtype: int64"
      ]
     },
     "execution_count": 28,
     "metadata": {},
     "output_type": "execute_result"
    }
   ],
   "source": [
    "df.isna().sum()"
   ]
  },
  {
   "cell_type": "code",
   "execution_count": 26,
   "id": "4aadd2ce-1149-4e68-977f-330a935d0c86",
   "metadata": {},
   "outputs": [
    {
     "data": {
      "text/plain": [
       "0"
      ]
     },
     "execution_count": 26,
     "metadata": {},
     "output_type": "execute_result"
    }
   ],
   "source": [
    "df.duplicated().sum()"
   ]
  },
  {
   "cell_type": "code",
   "execution_count": 29,
   "id": "9556279f-00aa-44f6-a606-104d700dcca1",
   "metadata": {},
   "outputs": [],
   "source": [
    "df['target'].replace(4, 1, inplace=True)"
   ]
  },
  {
   "cell_type": "code",
   "execution_count": 31,
   "id": "5d0cfb98-cfee-4339-8fd3-7dcf3548a137",
   "metadata": {},
   "outputs": [
    {
     "data": {
      "text/plain": [
       "target\n",
       "0    800000\n",
       "1    800000\n",
       "Name: count, dtype: int64"
      ]
     },
     "execution_count": 31,
     "metadata": {},
     "output_type": "execute_result"
    }
   ],
   "source": [
    "df['target'].value_counts()"
   ]
  },
  {
   "cell_type": "markdown",
   "id": "1828f016-094c-4062-bf82-55f70013f5f3",
   "metadata": {},
   "source": [
    "* **0 is negative sentiment**\n",
    "* **1 is positive sentiment**"
   ]
  },
  {
   "cell_type": "markdown",
   "id": "29494397-0592-4275-89db-09da83e7dd0c",
   "metadata": {},
   "source": [
    "# Stemming"
   ]
  },
  {
   "cell_type": "code",
   "execution_count": 32,
   "id": "8f90ead8-1849-4efb-968c-4af11b24e3d9",
   "metadata": {},
   "outputs": [],
   "source": [
    "ps = PorterStemmer()"
   ]
  },
  {
   "cell_type": "code",
   "execution_count": 33,
   "id": "2c3a7fb7-522b-48ac-ad1e-b1be9fc36eae",
   "metadata": {},
   "outputs": [],
   "source": [
    "def stemming(content):\n",
    "    \n",
    "    stemmed_content = re.sub('[^a-zA-Z]', ' ', content)\n",
    "    stemmed_content = stemmed_content.lower()\n",
    "    stemmed_content = stemmed_content.split()\n",
    "    stemmed_content = [ps.stem(word) for word in stemmed_content if not word in stopwords.words('english')]\n",
    "    stemmed_content = ' '.join(stemmed_content)\n",
    "\n",
    "    return stemmed_content"
   ]
  },
  {
   "cell_type": "code",
   "execution_count": 36,
   "id": "5f83991e-8d59-494a-9c8a-d18baf546656",
   "metadata": {},
   "outputs": [
    {
     "name": "stdout",
     "output_type": "stream",
     "text": [
      "CPU times: total: 1h 54min 53s\n",
      "Wall time: 2h 31s\n"
     ]
    }
   ],
   "source": [
    "%%time\n",
    "df['stemmed_content'] = df['text'].apply(stemming)"
   ]
  },
  {
   "cell_type": "code",
   "execution_count": 37,
   "id": "feed7395-8b1d-4579-8910-ba77a5b2c718",
   "metadata": {},
   "outputs": [
    {
     "data": {
      "text/html": [
       "<div>\n",
       "<style scoped>\n",
       "    .dataframe tbody tr th:only-of-type {\n",
       "        vertical-align: middle;\n",
       "    }\n",
       "\n",
       "    .dataframe tbody tr th {\n",
       "        vertical-align: top;\n",
       "    }\n",
       "\n",
       "    .dataframe thead th {\n",
       "        text-align: right;\n",
       "    }\n",
       "</style>\n",
       "<table border=\"1\" class=\"dataframe\">\n",
       "  <thead>\n",
       "    <tr style=\"text-align: right;\">\n",
       "      <th></th>\n",
       "      <th>target</th>\n",
       "      <th>id</th>\n",
       "      <th>date</th>\n",
       "      <th>flag</th>\n",
       "      <th>user</th>\n",
       "      <th>text</th>\n",
       "      <th>stemmed_content</th>\n",
       "    </tr>\n",
       "  </thead>\n",
       "  <tbody>\n",
       "    <tr>\n",
       "      <th>0</th>\n",
       "      <td>0</td>\n",
       "      <td>1467810369</td>\n",
       "      <td>Mon Apr 06 22:19:45 PDT 2009</td>\n",
       "      <td>NO_QUERY</td>\n",
       "      <td>_TheSpecialOne_</td>\n",
       "      <td>@switchfoot http://twitpic.com/2y1zl - Awww, t...</td>\n",
       "      <td>switchfoot http twitpic com zl awww bummer sho...</td>\n",
       "    </tr>\n",
       "    <tr>\n",
       "      <th>1</th>\n",
       "      <td>0</td>\n",
       "      <td>1467810672</td>\n",
       "      <td>Mon Apr 06 22:19:49 PDT 2009</td>\n",
       "      <td>NO_QUERY</td>\n",
       "      <td>scotthamilton</td>\n",
       "      <td>is upset that he can't update his Facebook by ...</td>\n",
       "      <td>upset updat facebook text might cri result sch...</td>\n",
       "    </tr>\n",
       "    <tr>\n",
       "      <th>2</th>\n",
       "      <td>0</td>\n",
       "      <td>1467810917</td>\n",
       "      <td>Mon Apr 06 22:19:53 PDT 2009</td>\n",
       "      <td>NO_QUERY</td>\n",
       "      <td>mattycus</td>\n",
       "      <td>@Kenichan I dived many times for the ball. Man...</td>\n",
       "      <td>kenichan dive mani time ball manag save rest g...</td>\n",
       "    </tr>\n",
       "    <tr>\n",
       "      <th>3</th>\n",
       "      <td>0</td>\n",
       "      <td>1467811184</td>\n",
       "      <td>Mon Apr 06 22:19:57 PDT 2009</td>\n",
       "      <td>NO_QUERY</td>\n",
       "      <td>ElleCTF</td>\n",
       "      <td>my whole body feels itchy and like its on fire</td>\n",
       "      <td>whole bodi feel itchi like fire</td>\n",
       "    </tr>\n",
       "    <tr>\n",
       "      <th>4</th>\n",
       "      <td>0</td>\n",
       "      <td>1467811193</td>\n",
       "      <td>Mon Apr 06 22:19:57 PDT 2009</td>\n",
       "      <td>NO_QUERY</td>\n",
       "      <td>Karoli</td>\n",
       "      <td>@nationwideclass no, it's not behaving at all....</td>\n",
       "      <td>nationwideclass behav mad see</td>\n",
       "    </tr>\n",
       "  </tbody>\n",
       "</table>\n",
       "</div>"
      ],
      "text/plain": [
       "   target          id                          date      flag  \\\n",
       "0       0  1467810369  Mon Apr 06 22:19:45 PDT 2009  NO_QUERY   \n",
       "1       0  1467810672  Mon Apr 06 22:19:49 PDT 2009  NO_QUERY   \n",
       "2       0  1467810917  Mon Apr 06 22:19:53 PDT 2009  NO_QUERY   \n",
       "3       0  1467811184  Mon Apr 06 22:19:57 PDT 2009  NO_QUERY   \n",
       "4       0  1467811193  Mon Apr 06 22:19:57 PDT 2009  NO_QUERY   \n",
       "\n",
       "              user                                               text  \\\n",
       "0  _TheSpecialOne_  @switchfoot http://twitpic.com/2y1zl - Awww, t...   \n",
       "1    scotthamilton  is upset that he can't update his Facebook by ...   \n",
       "2         mattycus  @Kenichan I dived many times for the ball. Man...   \n",
       "3          ElleCTF    my whole body feels itchy and like its on fire    \n",
       "4           Karoli  @nationwideclass no, it's not behaving at all....   \n",
       "\n",
       "                                     stemmed_content  \n",
       "0  switchfoot http twitpic com zl awww bummer sho...  \n",
       "1  upset updat facebook text might cri result sch...  \n",
       "2  kenichan dive mani time ball manag save rest g...  \n",
       "3                    whole bodi feel itchi like fire  \n",
       "4                      nationwideclass behav mad see  "
      ]
     },
     "execution_count": 37,
     "metadata": {},
     "output_type": "execute_result"
    }
   ],
   "source": [
    "df.head()"
   ]
  },
  {
   "cell_type": "code",
   "execution_count": 38,
   "id": "23ce7ec3-e3ed-4e4c-851d-a5a067d0afde",
   "metadata": {},
   "outputs": [],
   "source": [
    "#df.to_csv('Twitter_data_stemmed.csv', index=False)"
   ]
  },
  {
   "cell_type": "code",
   "execution_count": 39,
   "id": "b9a6e27b-18d8-4458-948e-829624309d34",
   "metadata": {},
   "outputs": [],
   "source": [
    "file = 'Twitter_data_stemmed.csv'\n",
    "data1 = pd.read_csv(file, sep=',')\n",
    "df1 = pd.DataFrame(data1)"
   ]
  },
  {
   "cell_type": "code",
   "execution_count": 40,
   "id": "127dcd94-1ef6-4602-8de7-ee842ea069aa",
   "metadata": {},
   "outputs": [
    {
     "data": {
      "text/html": [
       "<div>\n",
       "<style scoped>\n",
       "    .dataframe tbody tr th:only-of-type {\n",
       "        vertical-align: middle;\n",
       "    }\n",
       "\n",
       "    .dataframe tbody tr th {\n",
       "        vertical-align: top;\n",
       "    }\n",
       "\n",
       "    .dataframe thead th {\n",
       "        text-align: right;\n",
       "    }\n",
       "</style>\n",
       "<table border=\"1\" class=\"dataframe\">\n",
       "  <thead>\n",
       "    <tr style=\"text-align: right;\">\n",
       "      <th></th>\n",
       "      <th>target</th>\n",
       "      <th>id</th>\n",
       "      <th>date</th>\n",
       "      <th>flag</th>\n",
       "      <th>user</th>\n",
       "      <th>text</th>\n",
       "      <th>stemmed_content</th>\n",
       "    </tr>\n",
       "  </thead>\n",
       "  <tbody>\n",
       "    <tr>\n",
       "      <th>0</th>\n",
       "      <td>0</td>\n",
       "      <td>1467810369</td>\n",
       "      <td>Mon Apr 06 22:19:45 PDT 2009</td>\n",
       "      <td>NO_QUERY</td>\n",
       "      <td>_TheSpecialOne_</td>\n",
       "      <td>@switchfoot http://twitpic.com/2y1zl - Awww, t...</td>\n",
       "      <td>switchfoot http twitpic com zl awww bummer sho...</td>\n",
       "    </tr>\n",
       "    <tr>\n",
       "      <th>1</th>\n",
       "      <td>0</td>\n",
       "      <td>1467810672</td>\n",
       "      <td>Mon Apr 06 22:19:49 PDT 2009</td>\n",
       "      <td>NO_QUERY</td>\n",
       "      <td>scotthamilton</td>\n",
       "      <td>is upset that he can't update his Facebook by ...</td>\n",
       "      <td>upset updat facebook text might cri result sch...</td>\n",
       "    </tr>\n",
       "    <tr>\n",
       "      <th>2</th>\n",
       "      <td>0</td>\n",
       "      <td>1467810917</td>\n",
       "      <td>Mon Apr 06 22:19:53 PDT 2009</td>\n",
       "      <td>NO_QUERY</td>\n",
       "      <td>mattycus</td>\n",
       "      <td>@Kenichan I dived many times for the ball. Man...</td>\n",
       "      <td>kenichan dive mani time ball manag save rest g...</td>\n",
       "    </tr>\n",
       "    <tr>\n",
       "      <th>3</th>\n",
       "      <td>0</td>\n",
       "      <td>1467811184</td>\n",
       "      <td>Mon Apr 06 22:19:57 PDT 2009</td>\n",
       "      <td>NO_QUERY</td>\n",
       "      <td>ElleCTF</td>\n",
       "      <td>my whole body feels itchy and like its on fire</td>\n",
       "      <td>whole bodi feel itchi like fire</td>\n",
       "    </tr>\n",
       "    <tr>\n",
       "      <th>4</th>\n",
       "      <td>0</td>\n",
       "      <td>1467811193</td>\n",
       "      <td>Mon Apr 06 22:19:57 PDT 2009</td>\n",
       "      <td>NO_QUERY</td>\n",
       "      <td>Karoli</td>\n",
       "      <td>@nationwideclass no, it's not behaving at all....</td>\n",
       "      <td>nationwideclass behav mad see</td>\n",
       "    </tr>\n",
       "  </tbody>\n",
       "</table>\n",
       "</div>"
      ],
      "text/plain": [
       "   target          id                          date      flag  \\\n",
       "0       0  1467810369  Mon Apr 06 22:19:45 PDT 2009  NO_QUERY   \n",
       "1       0  1467810672  Mon Apr 06 22:19:49 PDT 2009  NO_QUERY   \n",
       "2       0  1467810917  Mon Apr 06 22:19:53 PDT 2009  NO_QUERY   \n",
       "3       0  1467811184  Mon Apr 06 22:19:57 PDT 2009  NO_QUERY   \n",
       "4       0  1467811193  Mon Apr 06 22:19:57 PDT 2009  NO_QUERY   \n",
       "\n",
       "              user                                               text  \\\n",
       "0  _TheSpecialOne_  @switchfoot http://twitpic.com/2y1zl - Awww, t...   \n",
       "1    scotthamilton  is upset that he can't update his Facebook by ...   \n",
       "2         mattycus  @Kenichan I dived many times for the ball. Man...   \n",
       "3          ElleCTF    my whole body feels itchy and like its on fire    \n",
       "4           Karoli  @nationwideclass no, it's not behaving at all....   \n",
       "\n",
       "                                     stemmed_content  \n",
       "0  switchfoot http twitpic com zl awww bummer sho...  \n",
       "1  upset updat facebook text might cri result sch...  \n",
       "2  kenichan dive mani time ball manag save rest g...  \n",
       "3                    whole bodi feel itchi like fire  \n",
       "4                      nationwideclass behav mad see  "
      ]
     },
     "execution_count": 40,
     "metadata": {},
     "output_type": "execute_result"
    }
   ],
   "source": [
    "df1.head()"
   ]
  },
  {
   "cell_type": "markdown",
   "id": "918ddd39-0737-4e05-9550-1059a259225c",
   "metadata": {},
   "source": [
    "# Train Test Split"
   ]
  },
  {
   "cell_type": "code",
   "execution_count": 41,
   "id": "fcbfa8f8-f003-46fd-80ce-1b95a61c93c2",
   "metadata": {},
   "outputs": [],
   "source": [
    "X = df1['stemmed_content'].values\n",
    "Y = df1['target'].values"
   ]
  },
  {
   "cell_type": "code",
   "execution_count": 42,
   "id": "71718fff-f0f5-4da9-947f-01a8613e45d9",
   "metadata": {},
   "outputs": [
    {
     "name": "stdout",
     "output_type": "stream",
     "text": [
      "['switchfoot http twitpic com zl awww bummer shoulda got david carr third day'\n",
      " 'upset updat facebook text might cri result school today also blah'\n",
      " 'kenichan dive mani time ball manag save rest go bound' ...\n",
      " 'readi mojo makeov ask detail'\n",
      " 'happi th birthday boo alll time tupac amaru shakur'\n",
      " 'happi charitytuesday thenspcc sparkschar speakinguph h']\n"
     ]
    }
   ],
   "source": [
    "print(X)"
   ]
  },
  {
   "cell_type": "code",
   "execution_count": 43,
   "id": "d0d7525f-a26b-46e1-8596-3189b2712bc6",
   "metadata": {},
   "outputs": [
    {
     "name": "stdout",
     "output_type": "stream",
     "text": [
      "[0 0 0 ... 1 1 1]\n"
     ]
    }
   ],
   "source": [
    "print(Y)"
   ]
  },
  {
   "cell_type": "code",
   "execution_count": 44,
   "id": "fc0aacdd-05b0-4fbd-9ae1-a795f9d9aea2",
   "metadata": {},
   "outputs": [],
   "source": [
    "X_train, x_test, Y_train, y_test = train_test_split(X, Y, test_size=0.2, stratify=Y, random_state=7)"
   ]
  },
  {
   "cell_type": "code",
   "execution_count": 45,
   "id": "1ea49ef4-ae61-4623-beb4-f070d56d351a",
   "metadata": {},
   "outputs": [
    {
     "data": {
      "text/plain": [
       "((1280000,), (320000,), (1280000,), (320000,))"
      ]
     },
     "execution_count": 45,
     "metadata": {},
     "output_type": "execute_result"
    }
   ],
   "source": [
    "X_train.shape, x_test.shape, Y_train.shape, y_test.shape"
   ]
  },
  {
   "cell_type": "code",
   "execution_count": 54,
   "id": "36e15b17-a021-4c1e-b525-ecf02b58b057",
   "metadata": {},
   "outputs": [
    {
     "name": "stdout",
     "output_type": "stream",
     "text": [
      "['im come back mum friend hous met cute littl boy year old guess'\n",
      " 'samicappola come get yearbook owe chill oh im leav present' 'tire' ...\n",
      " 'updat site style' 'jonathanrknight guess'\n",
      " 'peopl say fond read say found right book']\n"
     ]
    }
   ],
   "source": [
    "print(X_train)"
   ]
  },
  {
   "cell_type": "code",
   "execution_count": 55,
   "id": "97ceede6-034c-4419-a5be-c4e2c6569f57",
   "metadata": {},
   "outputs": [
    {
     "name": "stdout",
     "output_type": "stream",
     "text": [
      "['oh forgot import birthday today mrsrestrictor redact year old today'\n",
      " 'tire yawn best work'\n",
      " 'wonder time tonight stinkin awesom famili even chelsey bo alright' ...\n",
      " 'eat sushi' 'hotnsaucey day good friend' 'yay oral final exam']\n"
     ]
    }
   ],
   "source": [
    "print(x_test)"
   ]
  },
  {
   "cell_type": "code",
   "execution_count": 59,
   "id": "d241354b-4a76-46dd-9d73-0e3b31507ae1",
   "metadata": {},
   "outputs": [
    {
     "data": {
      "text/plain": [
       "402"
      ]
     },
     "execution_count": 59,
     "metadata": {},
     "output_type": "execute_result"
    }
   ],
   "source": [
    "np.sum(pd.isna(X_train))"
   ]
  },
  {
   "cell_type": "code",
   "execution_count": 61,
   "id": "3f7a61ac-a682-4c1a-97e6-0ee66fdb781f",
   "metadata": {},
   "outputs": [
    {
     "data": {
      "text/plain": [
       "93"
      ]
     },
     "execution_count": 61,
     "metadata": {},
     "output_type": "execute_result"
    }
   ],
   "source": [
    "np.sum(pd.isna(x_test))"
   ]
  },
  {
   "cell_type": "code",
   "execution_count": 63,
   "id": "d6bea716-2565-4da6-8681-9e44f409d281",
   "metadata": {},
   "outputs": [],
   "source": [
    "X_train = np.where(pd.isna(X_train), '', X_train)\n",
    "x_test = np.where(pd.isna(x_test), '', x_test)"
   ]
  },
  {
   "cell_type": "markdown",
   "id": "ead86da8-868e-440d-9604-3a26b1654638",
   "metadata": {},
   "source": [
    "# Vectorization"
   ]
  },
  {
   "cell_type": "code",
   "execution_count": 64,
   "id": "081d4093-63bc-43a6-924e-99763b915e2f",
   "metadata": {},
   "outputs": [],
   "source": [
    "vectorizer = TfidfVectorizer()"
   ]
  },
  {
   "cell_type": "code",
   "execution_count": 65,
   "id": "de88c746-0454-41fe-a36f-64b587c3653b",
   "metadata": {},
   "outputs": [],
   "source": [
    "X_train = vectorizer.fit_transform(X_train)\n",
    "x_test = vectorizer.transform(x_test)"
   ]
  },
  {
   "cell_type": "code",
   "execution_count": 66,
   "id": "aea44341-2ea4-4a4c-9258-33f27c215730",
   "metadata": {
    "scrolled": true
   },
   "outputs": [
    {
     "name": "stdout",
     "output_type": "stream",
     "text": [
      "  (0, 155372)\t0.28025612403710826\n",
      "  (0, 300402)\t0.28164691480372833\n",
      "  (0, 453293)\t0.26730987929913863\n",
      "  (0, 49383)\t0.2981972422694594\n",
      "  (0, 237192)\t0.26537306011695083\n",
      "  (0, 86882)\t0.30159464794998875\n",
      "  (0, 262111)\t0.3555114768058745\n",
      "  (0, 170258)\t0.2762802934137004\n",
      "  (0, 138742)\t0.24513704938905198\n",
      "  (0, 279423)\t0.3428184401343486\n",
      "  (0, 31110)\t0.20773704112163793\n",
      "  (0, 78681)\t0.22576199333749816\n",
      "  (0, 177827)\t0.21427584629824487\n",
      "  (1, 322661)\t0.31356968603824703\n",
      "  (1, 230543)\t0.24061578831492064\n",
      "  (1, 299033)\t0.1972545806518825\n",
      "  (1, 70180)\t0.30992185225350954\n",
      "  (1, 305640)\t0.3826922105576465\n",
      "  (1, 453295)\t0.4089354835572553\n",
      "  (1, 145799)\t0.1556199416062376\n",
      "  (1, 350909)\t0.5440254661314423\n",
      "  (1, 78681)\t0.19857578617690264\n",
      "  (1, 177827)\t0.1884727983145768\n",
      "  (2, 409653)\t1.0\n",
      "  (3, 336514)\t0.3435788672894467\n",
      "  :\t:\n",
      "  (1279994, 375510)\t0.24963676833883203\n",
      "  (1279994, 371210)\t0.21239382765987702\n",
      "  (1279994, 129214)\t0.29611126482529604\n",
      "  (1279994, 290816)\t0.1980705533534787\n",
      "  (1279994, 150667)\t0.16714882508999246\n",
      "  (1279994, 149674)\t0.15066947618460688\n",
      "  (1279995, 273119)\t0.7400785060754831\n",
      "  (1279995, 425028)\t0.5153596584238539\n",
      "  (1279995, 84051)\t0.43207433077461305\n",
      "  (1279996, 381680)\t0.5914853465244185\n",
      "  (1279996, 93728)\t0.41719349906742353\n",
      "  (1279996, 274505)\t0.5373345200323607\n",
      "  (1279996, 150667)\t0.4328582709898943\n",
      "  (1279997, 386516)\t0.6631262753804682\n",
      "  (1279997, 369378)\t0.5539597149623109\n",
      "  (1279997, 425929)\t0.5033807476442684\n",
      "  (1279998, 201384)\t0.8100829430757077\n",
      "  (1279998, 155372)\t0.5863152951593534\n",
      "  (1279999, 135536)\t0.5355826518736707\n",
      "  (1279999, 334274)\t0.2953029041808539\n",
      "  (1279999, 47880)\t0.3208399335519647\n",
      "  (1279999, 136605)\t0.3187482401352458\n",
      "  (1279999, 312373)\t0.2748678667415516\n",
      "  (1279999, 340668)\t0.25867767637725464\n",
      "  (1279999, 354370)\t0.5281498175900352\n"
     ]
    }
   ],
   "source": [
    "print(X_train)"
   ]
  },
  {
   "cell_type": "code",
   "execution_count": 67,
   "id": "bb92400f-2282-4952-8584-87a561a59728",
   "metadata": {
    "scrolled": true
   },
   "outputs": [
    {
     "name": "stdout",
     "output_type": "stream",
     "text": [
      "  (0, 453293)\t0.2147088227361715\n",
      "  (0, 411033)\t0.3190359682563617\n",
      "  (0, 335523)\t0.5019062696098175\n",
      "  (0, 300402)\t0.2262246261280556\n",
      "  (0, 299033)\t0.18013019468696764\n",
      "  (0, 277123)\t0.5498437106140087\n",
      "  (0, 178709)\t0.30763458557423734\n",
      "  (0, 136191)\t0.25595893278772636\n",
      "  (0, 42799)\t0.23259338082271522\n",
      "  (1, 452765)\t0.7131030172984495\n",
      "  (1, 445317)\t0.314363397907563\n",
      "  (1, 409653)\t0.4414973538142055\n",
      "  (1, 39459)\t0.44467946585255413\n",
      "  (2, 444429)\t0.2508912564017652\n",
      "  (2, 412343)\t0.21181427109967296\n",
      "  (2, 408641)\t0.17446103046604197\n",
      "  (2, 384351)\t0.4489961539402112\n",
      "  (2, 127912)\t0.2603631559671138\n",
      "  (2, 124343)\t0.21757689112411835\n",
      "  (2, 68871)\t0.4881406163788745\n",
      "  (2, 46494)\t0.3964047789290299\n",
      "  (2, 28897)\t0.22575268477323093\n",
      "  (2, 12453)\t0.3140750440261823\n",
      "  (3, 445317)\t0.2480083789348721\n",
      "  (3, 412035)\t0.30499991663853565\n",
      "  :\t:\n",
      "  (319994, 349338)\t0.2736536233759103\n",
      "  (319994, 131790)\t0.444678567420096\n",
      "  (319994, 102965)\t0.499039675674248\n",
      "  (319994, 18696)\t0.6916169953040396\n",
      "  (319995, 459380)\t0.5053000935625689\n",
      "  (319995, 413838)\t0.29367217889043845\n",
      "  (319995, 290816)\t0.19140924827019137\n",
      "  (319995, 237592)\t0.2376291103926011\n",
      "  (319995, 208633)\t0.45893131854293306\n",
      "  (319995, 153133)\t0.20317508606498\n",
      "  (319995, 89721)\t0.28125665971936886\n",
      "  (319995, 89419)\t0.2457983840990573\n",
      "  (319995, 78297)\t0.303678492228808\n",
      "  (319995, 25906)\t0.28580154079435766\n",
      "  (319996, 426714)\t1.0\n",
      "  (319997, 390167)\t0.8203596439334687\n",
      "  (319997, 113000)\t0.5718479296153416\n",
      "  (319998, 170050)\t0.8819690758035346\n",
      "  (319998, 150667)\t0.24575926132814258\n",
      "  (319998, 138742)\t0.32500414867837873\n",
      "  (319998, 93728)\t0.23686544310968435\n",
      "  (319999, 452798)\t0.4111091587065748\n",
      "  (319999, 303438)\t0.7000954934210488\n",
      "  (319999, 132032)\t0.38777114306345634\n",
      "  (319999, 125349)\t0.436450570312803\n"
     ]
    }
   ],
   "source": [
    "print(x_test)"
   ]
  },
  {
   "cell_type": "markdown",
   "id": "caadc516-b219-4707-87e1-83d192cb73f9",
   "metadata": {},
   "source": [
    "# Training the model"
   ]
  },
  {
   "cell_type": "code",
   "execution_count": 69,
   "id": "bc929630-6e8b-4215-97ed-518b9d3424ea",
   "metadata": {},
   "outputs": [],
   "source": [
    "model = LogisticRegression(max_iter=1000)"
   ]
  },
  {
   "cell_type": "code",
   "execution_count": 70,
   "id": "3a744b83-d3fc-4b72-b20a-24b7c670cc0b",
   "metadata": {},
   "outputs": [
    {
     "data": {
      "text/html": [
       "<style>#sk-container-id-1 {color: black;}#sk-container-id-1 pre{padding: 0;}#sk-container-id-1 div.sk-toggleable {background-color: white;}#sk-container-id-1 label.sk-toggleable__label {cursor: pointer;display: block;width: 100%;margin-bottom: 0;padding: 0.3em;box-sizing: border-box;text-align: center;}#sk-container-id-1 label.sk-toggleable__label-arrow:before {content: \"▸\";float: left;margin-right: 0.25em;color: #696969;}#sk-container-id-1 label.sk-toggleable__label-arrow:hover:before {color: black;}#sk-container-id-1 div.sk-estimator:hover label.sk-toggleable__label-arrow:before {color: black;}#sk-container-id-1 div.sk-toggleable__content {max-height: 0;max-width: 0;overflow: hidden;text-align: left;background-color: #f0f8ff;}#sk-container-id-1 div.sk-toggleable__content pre {margin: 0.2em;color: black;border-radius: 0.25em;background-color: #f0f8ff;}#sk-container-id-1 input.sk-toggleable__control:checked~div.sk-toggleable__content {max-height: 200px;max-width: 100%;overflow: auto;}#sk-container-id-1 input.sk-toggleable__control:checked~label.sk-toggleable__label-arrow:before {content: \"▾\";}#sk-container-id-1 div.sk-estimator input.sk-toggleable__control:checked~label.sk-toggleable__label {background-color: #d4ebff;}#sk-container-id-1 div.sk-label input.sk-toggleable__control:checked~label.sk-toggleable__label {background-color: #d4ebff;}#sk-container-id-1 input.sk-hidden--visually {border: 0;clip: rect(1px 1px 1px 1px);clip: rect(1px, 1px, 1px, 1px);height: 1px;margin: -1px;overflow: hidden;padding: 0;position: absolute;width: 1px;}#sk-container-id-1 div.sk-estimator {font-family: monospace;background-color: #f0f8ff;border: 1px dotted black;border-radius: 0.25em;box-sizing: border-box;margin-bottom: 0.5em;}#sk-container-id-1 div.sk-estimator:hover {background-color: #d4ebff;}#sk-container-id-1 div.sk-parallel-item::after {content: \"\";width: 100%;border-bottom: 1px solid gray;flex-grow: 1;}#sk-container-id-1 div.sk-label:hover label.sk-toggleable__label {background-color: #d4ebff;}#sk-container-id-1 div.sk-serial::before {content: \"\";position: absolute;border-left: 1px solid gray;box-sizing: border-box;top: 0;bottom: 0;left: 50%;z-index: 0;}#sk-container-id-1 div.sk-serial {display: flex;flex-direction: column;align-items: center;background-color: white;padding-right: 0.2em;padding-left: 0.2em;position: relative;}#sk-container-id-1 div.sk-item {position: relative;z-index: 1;}#sk-container-id-1 div.sk-parallel {display: flex;align-items: stretch;justify-content: center;background-color: white;position: relative;}#sk-container-id-1 div.sk-item::before, #sk-container-id-1 div.sk-parallel-item::before {content: \"\";position: absolute;border-left: 1px solid gray;box-sizing: border-box;top: 0;bottom: 0;left: 50%;z-index: -1;}#sk-container-id-1 div.sk-parallel-item {display: flex;flex-direction: column;z-index: 1;position: relative;background-color: white;}#sk-container-id-1 div.sk-parallel-item:first-child::after {align-self: flex-end;width: 50%;}#sk-container-id-1 div.sk-parallel-item:last-child::after {align-self: flex-start;width: 50%;}#sk-container-id-1 div.sk-parallel-item:only-child::after {width: 0;}#sk-container-id-1 div.sk-dashed-wrapped {border: 1px dashed gray;margin: 0 0.4em 0.5em 0.4em;box-sizing: border-box;padding-bottom: 0.4em;background-color: white;}#sk-container-id-1 div.sk-label label {font-family: monospace;font-weight: bold;display: inline-block;line-height: 1.2em;}#sk-container-id-1 div.sk-label-container {text-align: center;}#sk-container-id-1 div.sk-container {/* jupyter's `normalize.less` sets `[hidden] { display: none; }` but bootstrap.min.css set `[hidden] { display: none !important; }` so we also need the `!important` here to be able to override the default hidden behavior on the sphinx rendered scikit-learn.org. See: https://github.com/scikit-learn/scikit-learn/issues/21755 */display: inline-block !important;position: relative;}#sk-container-id-1 div.sk-text-repr-fallback {display: none;}</style><div id=\"sk-container-id-1\" class=\"sk-top-container\"><div class=\"sk-text-repr-fallback\"><pre>LogisticRegression(max_iter=1000)</pre><b>In a Jupyter environment, please rerun this cell to show the HTML representation or trust the notebook. <br />On GitHub, the HTML representation is unable to render, please try loading this page with nbviewer.org.</b></div><div class=\"sk-container\" hidden><div class=\"sk-item\"><div class=\"sk-estimator sk-toggleable\"><input class=\"sk-toggleable__control sk-hidden--visually\" id=\"sk-estimator-id-1\" type=\"checkbox\" checked><label for=\"sk-estimator-id-1\" class=\"sk-toggleable__label sk-toggleable__label-arrow\">LogisticRegression</label><div class=\"sk-toggleable__content\"><pre>LogisticRegression(max_iter=1000)</pre></div></div></div></div></div>"
      ],
      "text/plain": [
       "LogisticRegression(max_iter=1000)"
      ]
     },
     "execution_count": 70,
     "metadata": {},
     "output_type": "execute_result"
    }
   ],
   "source": [
    "model.fit(X_train, Y_train)"
   ]
  },
  {
   "cell_type": "code",
   "execution_count": 71,
   "id": "54631019-f291-4100-855a-3f34539dc6c1",
   "metadata": {},
   "outputs": [],
   "source": [
    "model_predict_train = model.predict(X_train)\n",
    "model_predict_test = model.predict(x_test)"
   ]
  },
  {
   "cell_type": "code",
   "execution_count": 72,
   "id": "0bd201bf-701b-457d-a36b-0c23ed634c6f",
   "metadata": {},
   "outputs": [],
   "source": [
    "train_acc = accuracy_score(Y_train, model_predict_train)\n",
    "test_acc = accuracy_score(y_test, model_predict_test)"
   ]
  },
  {
   "cell_type": "code",
   "execution_count": 104,
   "id": "31b9b71e-337f-4819-8665-e0f1b6493da3",
   "metadata": {},
   "outputs": [
    {
     "name": "stdout",
     "output_type": "stream",
     "text": [
      "81.008203125\n"
     ]
    }
   ],
   "source": [
    "print(train_acc*100)"
   ]
  },
  {
   "cell_type": "code",
   "execution_count": 103,
   "id": "8eb254eb-f19a-43b0-80dd-6ce9f35bfc92",
   "metadata": {},
   "outputs": [
    {
     "name": "stdout",
     "output_type": "stream",
     "text": [
      "77.93875\n"
     ]
    }
   ],
   "source": [
    "print(test_acc*100)"
   ]
  },
  {
   "cell_type": "code",
   "execution_count": 80,
   "id": "632601f4-a438-4de8-a18c-3793f32c3f09",
   "metadata": {},
   "outputs": [
    {
     "name": "stdout",
     "output_type": "stream",
     "text": [
      "[[121484  38516]\n",
      " [ 32080 127920]]\n"
     ]
    }
   ],
   "source": [
    "print(confusion_matrix(y_test, model_predict_test))"
   ]
  },
  {
   "cell_type": "code",
   "execution_count": 86,
   "id": "3f1aeff9-5025-4b5c-ad21-71e11b1bb770",
   "metadata": {},
   "outputs": [
    {
     "name": "stdout",
     "output_type": "stream",
     "text": [
      "[[505254 134746]\n",
      " [108349 531651]]\n"
     ]
    }
   ],
   "source": [
    "print(confusion_matrix(Y_train, model_predict_train))"
   ]
  },
  {
   "cell_type": "code",
   "execution_count": 81,
   "id": "59d156b4-285b-4f0c-8cd8-280fe0d02352",
   "metadata": {},
   "outputs": [
    {
     "name": "stdout",
     "output_type": "stream",
     "text": [
      "              precision    recall  f1-score   support\n",
      "\n",
      "           0       0.79      0.76      0.77    160000\n",
      "           1       0.77      0.80      0.78    160000\n",
      "\n",
      "    accuracy                           0.78    320000\n",
      "   macro avg       0.78      0.78      0.78    320000\n",
      "weighted avg       0.78      0.78      0.78    320000\n",
      "\n"
     ]
    }
   ],
   "source": [
    "print(classification_report(y_test, model_predict_test))"
   ]
  },
  {
   "cell_type": "code",
   "execution_count": 85,
   "id": "1ce61781-eb41-4387-b72b-65bea602e4f7",
   "metadata": {},
   "outputs": [
    {
     "name": "stdout",
     "output_type": "stream",
     "text": [
      "              precision    recall  f1-score   support\n",
      "\n",
      "           0       0.82      0.79      0.81    640000\n",
      "           1       0.80      0.83      0.81    640000\n",
      "\n",
      "    accuracy                           0.81   1280000\n",
      "   macro avg       0.81      0.81      0.81   1280000\n",
      "weighted avg       0.81      0.81      0.81   1280000\n",
      "\n"
     ]
    }
   ],
   "source": [
    "print(classification_report(Y_train, model_predict_train))"
   ]
  },
  {
   "cell_type": "code",
   "execution_count": 87,
   "id": "57c04a28-ff28-4c11-8455-9f3d0865ea39",
   "metadata": {},
   "outputs": [
    {
     "data": {
      "image/png": "[encoded data removed]",
      "text/plain": [
       "<Figure size 640x480 with 2 Axes>"
      ]
     },
     "metadata": {},
     "output_type": "display_data"
    }
   ],
   "source": [
    "# test data\n",
    "conf_matrix = confusion_matrix(y_test, model_predict_test)\n",
    "ConfusionMatrixDisplay(conf_matrix).plot()\n",
    "plt.show()"
   ]
  },
  {
   "cell_type": "code",
   "execution_count": 88,
   "id": "3a51c8cc-3237-4dca-93dc-da7e21c07e52",
   "metadata": {},
   "outputs": [
    {
     "data": {
      "image/png": "[encoded data removed]",
      "text/plain": [
       "<Figure size 640x480 with 2 Axes>"
      ]
     },
     "metadata": {},
     "output_type": "display_data"
    }
   ],
   "source": [
    "# train data\n",
    "conf_matrix = confusion_matrix(Y_train, model_predict_train)\n",
    "ConfusionMatrixDisplay(conf_matrix).plot()\n",
    "plt.show()"
   ]
  },
  {
   "cell_type": "code",
   "execution_count": 94,
   "id": "a706bccb-e221-437b-b817-faeafea92318",
   "metadata": {},
   "outputs": [
    {
     "data": {
      "image/png": "[encoded data removed]",
      "text/plain": [
       "<Figure size 640x480 with 1 Axes>"
      ]
     },
     "metadata": {},
     "output_type": "display_data"
    }
   ],
   "source": [
    "#AUC\n",
    "score = model.decision_function(x_test)\n",
    "fpr, tpr, _ = roc_curve(y_test, score, pos_label=model.classes_[1])\n",
    "auc = roc_auc_score(y_test, score)\n",
    "\n",
    "roc_display = RocCurveDisplay(fpr=fpr, tpr=tpr, roc_auc=auc).plot()"
   ]
  },
  {
   "cell_type": "code",
   "execution_count": 102,
   "id": "da1e60aa-a623-4560-ab1c-a2e7223f4923",
   "metadata": {},
   "outputs": [
    {
     "name": "stdout",
     "output_type": "stream",
     "text": [
      "Prediction: [0]\n"
     ]
    }
   ],
   "source": [
    "input_text ='''Rahul is a bad example of a leader for a country which is the fifth largest economy in the world!\n",
    "                People dont want to see him as a prime minister because they believe Rahul will be a devastating\n",
    "                    minister & ruin the country!'''\n",
    "\n",
    "input_vec = vectorizer.transform([input_text])\n",
    "\n",
    "input_vec = input_vec.reshape(1, -1)\n",
    "\n",
    "predict = model.predict(input_vec)\n",
    "\n",
    "print(\"Prediction:\", predict)"
   ]
  },
  {
   "cell_type": "code",
   "execution_count": null,
   "id": "d2f4b1a6-141d-49e7-9bb7-67e389483b3f",
   "metadata": {},
   "outputs": [],
   "source": []
  }
 ],
 "metadata": {
  "kernelspec": {
   "display_name": "Python 3 (ipykernel)",
   "language": "python",
   "name": "python3"
  },
  "language_info": {
   "codemirror_mode": {
    "name": "ipython",
    "version": 3
   },
   "file_extension": ".py",
   "mimetype": "text/x-python",
   "name": "python",
   "nbconvert_exporter": "python",
   "pygments_lexer": "ipython3",
   "version": "3.11.5"
  }
 },
 "nbformat": 4,
 "nbformat_minor": 5
}
